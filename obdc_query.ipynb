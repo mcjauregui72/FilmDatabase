{
 "cells": [
  {
   "cell_type": "code",
   "execution_count": null,
   "metadata": {},
   "outputs": [],
   "source": [
    "# import required libraries\n",
    "import pyodbc\n",
    "import pandas as pd"
   ]
  },
  {
   "cell_type": "code",
   "execution_count": null,
   "metadata": {},
   "outputs": [],
   "source": [
    "# create dictionary containing connection information to local postgresql db\n",
    "config = dict(\n",
    "    server = 'localhost',\n",
    "    port = 5432,\n",
    "    database = 'movie_db',\n",
    "    username = 'postgres',\n",
    "    password = 'postgres')\n",
    "\n",
    "# create connection string to be fed into connect function\n",
    "conn_str = (\n",
    "    'SERVER={server},{port};' +\n",
    "    'DATABASE={database};' +\n",
    "    'UID={username};' +\n",
    "    'PWD={password}')\n",
    "\n",
    "# connect to our movie database using configuration string\n",
    "conn = pyodbc.connect(\n",
    "    r'DRIVER={PostgreSQL Unicode(x64)};' +\n",
    "    conn_str.format(**config))\n"
   ]
  },
  {
   "cell_type": "code",
   "execution_count": null,
   "metadata": {},
   "outputs": [],
   "source": [
    "# looking for moviews with christmas related keyword\n",
    "# create empty dataframe with column headers defined\n",
    "df_christmas = pd.DataFrame(columns = ['Title','Average Vote','Popularity','Tagline'])\n",
    "\n",
    "# create a cursor and run query through the cursor\n",
    "christmas_movies = conn.cursor()\n",
    "christmas_movies.execute(\"SELECT DISTINCT m.title, m.average_vote, m.popularity, m.tagline FROM \\\n",
    "                movies m \\\n",
    "                JOIN movieids_kw mkw \\\n",
    "                ON m.movie_id = mkw.movie_id \\\n",
    "                JOIN keywords kw \\\n",
    "                ON mkw.keyword_id = kw.keyword_id \\\n",
    "                WHERE kw.keyword LIKE '%christmas%' \\\n",
    "                ORDER BY m.average_vote DESC, m.popularity DESC\")\n",
    "\n",
    "# loop through the cursor and add each query result to a dataframe\n",
    "for entry in christmas_movies:\n",
    "    list = [entry.title, entry.average_vote, entry.popularity, entry.tagline]\n",
    "    df_christmas.loc[len(df_christmas)] = list\n",
    "\n",
    "# display dataframe\n",
    "df_christmas.head(10)"
   ]
  },
  {
   "cell_type": "code",
   "execution_count": null,
   "metadata": {},
   "outputs": [],
   "source": [
    "# looking for harrison ford movies\n",
    "# create empty dataframe with column headers defined\n",
    "df_hford = pd.DataFrame(columns = ['Title','Average Vote','Popularity','Tagline'])\n",
    "\n",
    "# create a cursor and run query through the cursor\n",
    "h_ford_movies = conn.cursor()\n",
    "h_ford_movies.execute(\"SELECT m.title, m.average_vote, m.popularity, m.tagline \\\n",
    "                        FROM movies m \\\n",
    "                        JOIN credits_actor ca ON m.movie_id = ca.movie_id \\\n",
    "                        JOIN actor a ON ca.actor_id = a.actor_id \\\n",
    "                        WHERE a.actor = 'Harrison Ford' \\\n",
    "                        ORDER BY m.average_vote DESC, m.popularity DESC\")\n",
    "\n",
    "# loop through the cursor and add each query result to a dataframe\n",
    "for entry in h_ford_movies:\n",
    "    list = [entry.title, entry.average_vote, entry.popularity, entry.tagline]\n",
    "    df_hford.loc[len(df_hford)] = list\n",
    "\n",
    "# display dataframe\n",
    "df_hford.head(10)"
   ]
  },
  {
   "cell_type": "code",
   "execution_count": null,
   "metadata": {},
   "outputs": [],
   "source": [
    "# looking for fantasy movies\n",
    "# create empty dataframe with column headers defined\n",
    "df_fantasy = pd.DataFrame(columns = ['Title','Average Vote','Popularity','Tagline'])\n",
    "\n",
    "# create a cursor and run query through the cursor\n",
    "fantasy_movies = conn.cursor()\n",
    "fantasy_movies.execute(\"SELECT m.title, m.average_vote, m.popularity, m.tagline \\\n",
    "                        FROM movies m \\\n",
    "                        JOIN movieid_genre_ids mg ON m.movie_id = mg.movie_id \\\n",
    "                        JOIN emoji_genre eg ON mg.genre_id = eg.genre_id \\\n",
    "                        WHERE eg.genre = 'Fantasy' \\\n",
    "                        ORDER BY m.average_vote DESC, m.popularity DESC\")\n",
    "\n",
    "# loop through the cursor and add each query result to a dataframe\n",
    "for entry in fantasy_movies:\n",
    "    list = [entry.title, entry.average_vote, entry.popularity, entry.tagline]\n",
    "    df_fantasy.loc[len(df_fantasy)] = list\n",
    "\n",
    "# display dataframe\n",
    "df_fantasy.head(10)"
   ]
  },
  {
   "cell_type": "code",
   "execution_count": null,
   "metadata": {},
   "outputs": [],
   "source": [
    "# looking for fantasy movies\n",
    "# create empty dataframe with column headers defined\n",
    "df_bluhrmann = pd.DataFrame(columns = ['Title','Average Vote','Popularity','Tagline'])\n",
    "\n",
    "# create a cursor and run query through the cursor\n",
    "bluhrmann_movies = conn.cursor()\n",
    "bluhrmann_movies.execute(\"SELECT DISTINCT m.title, m.average_vote, m.popularity, m.tagline \\\n",
    "                        FROM movies m \\\n",
    "                        JOIN movieid_director_id mdi ON m.movie_id = mdi.movie_id \\\n",
    "                        JOIN directors d ON mdi.director_id = d.director_id \\\n",
    "                        JOIN movieid_genre_ids mg ON m.movie_id = mg.movie_id \\\n",
    "                        WHERE d.director = 'Baz Luhrmann' \\\n",
    "                        ORDER BY m.average_vote DESC, m.popularity DESC\")\n",
    "\n",
    "# loop through the cursor and add each query result to a dataframe\n",
    "for entry in bluhrmann_movies:\n",
    "    list = [entry.title, entry.average_vote, entry.popularity, entry.tagline]\n",
    "    df_bluhrmann.loc[len(df_bluhrmann)] = list\n",
    "\n",
    "# display dataframe\n",
    "df_bluhrmann.head(10)"
   ]
  },
  {
   "cell_type": "code",
   "execution_count": null,
   "metadata": {},
   "outputs": [],
   "source": [
    "# looking for movies related to the ocean and outputting genre results with corresponding emojis\n",
    "# create empty dataframe with column headers defined\n",
    "df_ocean= pd.DataFrame(columns = ['Title','Average Vote','Popularity','Tagline'])\n",
    "# create a cursor and run query through the cursor\n",
    "ocean_movies = conn.cursor()\n",
    "ocean_movies.execute(\"SELECT m.title, m.average_vote, m.popularity, STRING_AGG(concat (eg.genre, eg.genre_emoji), ', ') AS genres_with_emojis \\\n",
    "                        FROM movies m \\\n",
    "                        JOIN movieids_kw mk ON m.movie_id = mk.movie_id \\\n",
    "                        JOIN keywords k ON mk.keyword_id = k.keyword_id \\\n",
    "                        JOIN movieid_genre_ids mg ON m.movie_id = mg.movie_id \\\n",
    "                        JOIN emoji_genre eg ON mg.genre_id = eg.genre_id \\\n",
    "                        WHERE k.keyword = 'ocean' \\\n",
    "                        GROUP BY m.title, m.average_vote, popularity \\\n",
    "                        ORDER BY m.average_vote DESC, m.popularity DESC;\")\n",
    "\n",
    "# loop through the cursor and add each query result to a dataframe\n",
    "for entry in ocean_movies:\n",
    "    list = [entry.title, entry.average_vote, entry.popularity, entry.genres_with_emojis]\n",
    "    df_ocean.loc[len(df_ocean)] = list\n",
    "\n",
    "# display dataframe\n",
    "df_ocean.head(10)"
   ]
  },
  {
   "cell_type": "code",
   "execution_count": null,
   "metadata": {},
   "outputs": [],
   "source": [
    "conn.close()"
   ]
  }
 ],
 "metadata": {
  "kernelspec": {
   "display_name": "dev",
   "language": "python",
   "name": "python3"
  },
  "language_info": {
   "codemirror_mode": {
    "name": "ipython",
    "version": 3
   },
   "file_extension": ".py",
   "mimetype": "text/x-python",
   "name": "python",
   "nbconvert_exporter": "python",
   "pygments_lexer": "ipython3",
   "version": "3.10.13"
  }
 },
 "nbformat": 4,
 "nbformat_minor": 2
}
