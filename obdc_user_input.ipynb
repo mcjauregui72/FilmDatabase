{
 "cells": [
  {
   "cell_type": "code",
   "execution_count": null,
   "metadata": {},
   "outputs": [],
   "source": [
    "# Imports\n",
    "import pyodbc\n",
    "import pandas as pd"
   ]
  },
  {
   "cell_type": "code",
   "execution_count": null,
   "metadata": {},
   "outputs": [],
   "source": [
    "# Connect to Postgres SQL\n",
    "config = dict(\n",
    "    server = 'localhost',\n",
    "    port = 5432,\n",
    "    database = 'movies_db',\n",
    "    username = 'postgres',\n",
    "    password = 'postgres')\n",
    "\n",
    "conn_str = (\n",
    "    'SERVER={server},{port};' +\n",
    "    'DATABASE={database};' +\n",
    "    'UID={username};' +\n",
    "    'PWD={password}')\n",
    "\n",
    "conn = pyodbc.connect(\n",
    "    r'DRIVER={PostgreSQL Unicode(x64)};' +\n",
    "    conn_str.format(**config))\n"
   ]
  },
  {
   "cell_type": "markdown",
   "metadata": {},
   "source": [
    "# Top Movie Recommendations by: "
   ]
  },
  {
   "cell_type": "markdown",
   "metadata": {},
   "source": [
    "### Choose a Recommendation Method"
   ]
  },
  {
   "cell_type": "markdown",
   "metadata": {},
   "source": [
    "_______________________"
   ]
  },
  {
   "cell_type": "markdown",
   "metadata": {},
   "source": [
    "## Actor"
   ]
  },
  {
   "cell_type": "code",
   "execution_count": null,
   "metadata": {},
   "outputs": [],
   "source": [
    "# Choose an Actor\n",
    "# Get user input for Actor\n",
    "actor_user = input('Choose an actor name')\n",
    "\n",
    "#Create Dataframe\n",
    "df_user_actor = pd.DataFrame(columns=['Title', 'Average Vote', 'Popularity', 'Release Date', 'Tagline', 'Genre'])\n",
    "\n",
    "# Create a cursor\n",
    "cursor = conn.cursor()\n",
    "\n",
    "# Define Query\n",
    "query = \"\"\"\n",
    "    SELECT DISTINCT m.title, m.average_vote, m.popularity, m.release_date, m.tagline,\n",
    "    STRING_AGG(concat (eg.genre, eg.genre_emoji), ', ') AS genres_with_emojis\n",
    "    FROM movies m\n",
    "    JOIN credits_actor ca ON m.movie_id = ca.movie_id\n",
    "    JOIN actor a ON ca.actor_id = a.actor_id \n",
    "    JOIN movieid_genre_ids mg ON m.movie_id = mg.movie_id\n",
    "    JOIN emoji_genre eg ON mg.genre_id = eg.genre_id\n",
    "    WHERE a.actor = ?\n",
    "    GROUP BY m.title, m.average_vote, m.popularity, m.release_date, m.tagline\n",
    "    ORDER BY m.average_vote DESC, m.popularity DESC;\n",
    "\"\"\"\n",
    "\n",
    "# Execute the query with user input parameter\n",
    "cursor.execute(query, actor_user)\n",
    "\n",
    "# Loop through each entry in the cursor\n",
    "for entry in cursor:\n",
    "    # Create a list of provided attributes\n",
    "    lst = [entry.title, entry.average_vote, entry.popularity, entry.release_date, entry.tagline, entry.genres_with_emojis]\n",
    "    # Add list as new row in dataframe\n",
    "    df_user_actor.loc[len(df_user_actor)] = lst\n",
    "\n",
    "# Close the cursor\n",
    "cursor.close()\n",
    "\n",
    "#Extend max column width to display Tagline\n",
    "pd.set_option('display.max_colwidth', 150)\n",
    "\n",
    "#Print The Input\n",
    "print(f'Here are the top movies for Actor: {actor_user}')\n",
    " \n",
    "# # Display the DataFrame\n",
    "df_user_actor.head(10)\n"
   ]
  },
  {
   "cell_type": "markdown",
   "metadata": {},
   "source": [
    "_________________"
   ]
  },
  {
   "cell_type": "markdown",
   "metadata": {},
   "source": [
    "## Genre"
   ]
  },
  {
   "cell_type": "code",
   "execution_count": null,
   "metadata": {},
   "outputs": [],
   "source": [
    "# Choose a Genre\n",
    "# Get user input for Genre\n",
    "genre_user = input(\"\"\"Choose a Genre:\\n Family, Mystery, Crime, Fantasy, Horror,\n",
    "                   Action, Documentary, Adventure, History, Western, Animation,\n",
    "                   Thriller, Comedy, TV Movie, Science Fiction, Drama, Music,\n",
    "                   Romance, Foreign, War. \n",
    "                   \"\"\")\n",
    "\n",
    "\n",
    "#Create Dataframe\n",
    "df_user_genre = pd.DataFrame(columns=['Title', 'Average Vote', 'Popularity', 'Release Date', 'Tagline', 'Star Actors'])\n",
    "\n",
    "# Create a cursor\n",
    "cursor = conn.cursor()\n",
    "\n",
    "# Define Query\n",
    "query = \"\"\"\n",
    "        SELECT m.title, m.average_vote, m.popularity, m.release_date, m.tagline,\n",
    "        STRING_AGG(a.actor, ', ') AS actors\n",
    "        FROM movies m \n",
    "        JOIN movieid_genre_ids mg ON m.movie_id = mg.movie_id \n",
    "        JOIN emoji_genre eg ON mg.genre_id = eg.genre_id\n",
    "        JOIN credits_actor ca ON m.movie_id = ca.movie_id\n",
    "        JOIN actor a ON ca.actor_id = a.actor_id\n",
    "        WHERE eg.genre = ?\n",
    "        GROUP BY m.title, m.average_vote, m.popularity, m.release_date, m.tagline\n",
    "        ORDER BY m.average_vote DESC, m.popularity DESC;\n",
    "\"\"\"\n",
    "\n",
    "# Execute the query with user input parameter\n",
    "cursor.execute(query, genre_user)\n",
    "\n",
    "# Loop through each entry in the cursor\n",
    "for entry in cursor:\n",
    "    # Create a list of provided attributes\n",
    "    lst = [entry.title, entry.average_vote, entry.popularity, entry.release_date, entry.tagline, entry.actors]\n",
    "    # Add list as new row in dataframe\n",
    "    df_user_genre.loc[len(df_user_genre)] = lst\n",
    "\n",
    "# Close the cursor\n",
    "cursor.close()\n",
    "\n",
    "#Extend max column width to display Tagline\n",
    "pd.set_option('display.max_colwidth', 150)\n",
    "\n",
    "#Print The Input\n",
    "print(f'Here are the top movies for Genre: {genre_user}')\n",
    "\n",
    "# # Display the DataFrame\n",
    "df_user_genre.head(10)\n",
    "\n"
   ]
  },
  {
   "cell_type": "markdown",
   "metadata": {},
   "source": [
    "___________"
   ]
  },
  {
   "cell_type": "markdown",
   "metadata": {},
   "source": [
    "## Director"
   ]
  },
  {
   "cell_type": "code",
   "execution_count": null,
   "metadata": {},
   "outputs": [],
   "source": [
    "# Choose a Director\n",
    "# Get user input for Director\n",
    "director_user = input('Choose a Director name')\n",
    "\n",
    "\n",
    "#Create Dataframe\n",
    "df_user_director = pd.DataFrame(columns=['Title', 'Average Vote', 'Popularity', 'Release Date', 'Tagline', 'Genre'])\n",
    "\n",
    "# Create a cursor\n",
    "cursor = conn.cursor()\n",
    "\n",
    "# Define Query\n",
    "query = \"\"\"\n",
    "    SELECT DISTINCT m.title, m.average_vote, m.popularity, m.release_date, m.tagline,\n",
    "    STRING_AGG(concat (eg.genre, eg.genre_emoji), ', ') AS genres_with_emojis\n",
    "    FROM movies m\n",
    "    JOIN movieid_director_id mdi ON m.movie_id = mdi.movie_id \n",
    "    JOIN directors d ON mdi.director_id = d.director_id \n",
    "    JOIN movieid_genre_ids mg ON m.movie_id = mg.movie_id\n",
    "    JOIN emoji_genre eg ON mg.genre_id = eg.genre_id\n",
    "    WHERE d.director = ?\n",
    "    GROUP BY m.title, m.average_vote, m.popularity, m.release_date, m.tagline\n",
    "    ORDER BY m.average_vote DESC, m.popularity DESC;\n",
    "\"\"\"\n",
    "\n",
    "# Execute the query with user input parameter\n",
    "cursor.execute(query, director_user)\n",
    "\n",
    "# Loop through each entry in the cursor\n",
    "for entry in cursor:\n",
    "    # Create a list of provided attributes\n",
    "    lst = [entry.title, entry.average_vote, entry.popularity, entry.release_date, entry.tagline, entry.genres_with_emojis]\n",
    "    # Add list as new row in dataframe\n",
    "    df_user_director.loc[len(df_user_director)] = lst\n",
    "\n",
    "# Close the cursor\n",
    "cursor.close()\n",
    "\n",
    "#Extend max column width to display Tagline\n",
    "pd.set_option('display.max_colwidth', 150)\n",
    "\n",
    "#Print The Input\n",
    "print(f'Here are the top movies for directed by: {director_user}')\n",
    "\n",
    "# # Display the DataFrame\n",
    "df_user_director.head(10)\n"
   ]
  },
  {
   "cell_type": "markdown",
   "metadata": {},
   "source": [
    "________________"
   ]
  },
  {
   "cell_type": "markdown",
   "metadata": {},
   "source": [
    "## Keyword"
   ]
  },
  {
   "cell_type": "code",
   "execution_count": null,
   "metadata": {},
   "outputs": [],
   "source": [
    "# Choose a Keyword\n",
    "# Get user input for Keyword\n",
    "keyword_user = input('Choose a keyword.')\n",
    "\n",
    "#Create Dataframe\n",
    "keyword_df = pd.DataFrame(columns=['Title', 'Average Vote', 'Popularity', 'Tagline', 'Genre'])\n",
    "\n",
    "# Create a cursor\n",
    "cursor = conn.cursor()\n",
    "\n",
    "# Define Query\n",
    "query = \"\"\"\n",
    "    SELECT DISTINCT m.title, m.average_vote, m.popularity, m.tagline, STRING_AGG(concat (eg.genre, eg.genre_emoji), ', ') AS genres_with_emojis\n",
    "    FROM movies m\n",
    "    JOIN movieids_kw mk ON m.movie_id = mk.movie_id\n",
    "    JOIN keywords k ON mk.keyword_id = k.keyword_id\n",
    "    JOIN movieid_genre_ids mg ON m.movie_id = mg.movie_id\n",
    "    JOIN emoji_genre eg ON mg.genre_id = eg.genre_id\n",
    "    WHERE k.keyword LIKE  ?\n",
    "    GROUP BY m.title, m.average_vote, m.popularity, m.tagline\n",
    "    ORDER BY m.average_vote DESC, m.popularity DESC;\n",
    "\"\"\"\n",
    "# Execute the query with user input parameter\n",
    "cursor.execute(query, keyword_user)\n",
    "\n",
    "# Loop through each entry in the cursor\n",
    "for entry in cursor:\n",
    "    # Create a list of provided attributes\n",
    "    lst = [entry.title, entry.average_vote, entry.popularity, entry.tagline, entry.genres_with_emojis]\n",
    "    # Add list as new row in dataframe\n",
    "    keyword_df.loc[len(keyword_df)] = lst\n",
    "\n",
    "# Close the cursor\n",
    "cursor.close()\n",
    "\n",
    "#Extend max column width to display Tagline\n",
    "pd.set_option('display.max_colwidth', 150)\n",
    "\n",
    "#Print The Input\n",
    "print(f'Here are the top movies about: {keyword_user}')\n",
    "\n",
    "# # Display the DataFrame\n",
    "keyword_df.head(10)\n"
   ]
  },
  {
   "cell_type": "markdown",
   "metadata": {},
   "source": [
    "___________"
   ]
  },
  {
   "cell_type": "markdown",
   "metadata": {},
   "source": [
    "## Keyword (LIKE)"
   ]
  },
  {
   "cell_type": "code",
   "execution_count": null,
   "metadata": {},
   "outputs": [],
   "source": [
    "# Choose a Keyword (Will return movies with keyword in any phrases)\n",
    "# Get user input for Keyword\n",
    "keyword_user = input('Choose a keyword.')\n",
    "\n",
    "# Insert % to work with LIKE\n",
    "like_keyword_user= f'%{keyword_user}%'\n",
    "\n",
    "\n",
    "#Create Dataframe\n",
    "df_user_like_keyword = pd.DataFrame(columns=['Title', 'Average Vote', 'Popularity', 'Release Date', 'Tagline', 'Star Actors'])\n",
    "\n",
    "# Create a cursor\n",
    "cursor = conn.cursor()\n",
    "\n",
    "# Define Query\n",
    "query = \"\"\"SELECT DISTINCT m.title, m.average_vote, m.popularity, m.release_date, m.release_date, m.tagline,\n",
    "            STRING_AGG(a.actor, ', ') AS actors\n",
    "            FROM movies m \n",
    "            JOIN movieids_kw mkw ON m.movie_id = mkw.movie_id \n",
    "            JOIN keywords kw ON mkw.keyword_id = kw.keyword_id\n",
    "            JOIN credits_actor ca ON m.movie_id = ca.movie_id\n",
    "            JOIN actor a ON ca.actor_id = a.actor_id\n",
    "            WHERE kw.keyword LIKE ? \n",
    "            GROUP BY m.title, m.average_vote, m.popularity, m.release_date, m.tagline\n",
    "            ORDER BY m.average_vote DESC, m.popularity DESC\"\"\"\n",
    "\n",
    "# Execute the query with user input parameter\n",
    "cursor.execute(query, like_keyword_user)\n",
    "\n",
    "# Loop through each entry in the cursor\n",
    "for entry in cursor:\n",
    "    # Create a list of provided attributes\n",
    "    lst = [entry.title, entry.average_vote, entry.popularity, entry.release_date, entry.tagline, entry.actors]\n",
    "    # Add list as new row in dataframe\n",
    "    df_user_like_keyword.loc[len(df_user_like_keyword)] = lst\n",
    "\n",
    "# Close the cursor\n",
    "cursor.close()\n",
    "\n",
    "#Extend max column width to display Tagline\n",
    "pd.set_option('display.max_colwidth', 150)\n",
    "\n",
    "#Print The Input\n",
    "print(f'Here are the top movies about: {keyword_user}')\n",
    "\n",
    "# # Display the DataFrame\n",
    "df_user_like_keyword.head(10)\n"
   ]
  },
  {
   "cell_type": "markdown",
   "metadata": {},
   "source": [
    "_______________________"
   ]
  },
  {
   "cell_type": "code",
   "execution_count": null,
   "metadata": {},
   "outputs": [],
   "source": [
    "# Close the cursor and connection\n",
    "conn.close()"
   ]
  }
 ],
 "metadata": {
  "kernelspec": {
   "display_name": "dev",
   "language": "python",
   "name": "python3"
  },
  "language_info": {
   "codemirror_mode": {
    "name": "ipython",
    "version": 3
   },
   "file_extension": ".py",
   "mimetype": "text/x-python",
   "name": "python",
   "nbconvert_exporter": "python",
   "pygments_lexer": "ipython3",
   "version": "3.10.13"
  }
 },
 "nbformat": 4,
 "nbformat_minor": 2
}
