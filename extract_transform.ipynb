{
 "cells": [
  {
   "cell_type": "markdown",
   "metadata": {},
   "source": [
    "# Inital Data Import and Extract:"
   ]
  },
  {
   "cell_type": "code",
   "execution_count": null,
   "metadata": {},
   "outputs": [],
   "source": [
    "# Dependencies\n",
    "import pandas as pd\n",
    "import json\n",
    "# New library\n",
    "import itertools \n",
    "# A new library just for fun!\n",
    "import emoji \n"
   ]
  },
  {
   "cell_type": "code",
   "execution_count": null,
   "metadata": {},
   "outputs": [],
   "source": [
    "#Retrieve all movies from csv\n",
    "movies = pd.read_csv(\"Resources/tmdb_5000_movies.csv\")\n",
    "movies.head()"
   ]
  },
  {
   "cell_type": "code",
   "execution_count": null,
   "metadata": {},
   "outputs": [],
   "source": [
    "#Filter for english language movies only\n",
    "#Some foreign language movies titles did not translate characters properly in the original list\n",
    "en_movies = movies[movies[\"original_language\"]==\"en\"]\n",
    "en_movies.head()"
   ]
  },
  {
   "cell_type": "code",
   "execution_count": null,
   "metadata": {},
   "outputs": [],
   "source": [
    "#Create a list of movie ids\n",
    "movie_id_list = en_movies['id'].tolist()\n"
   ]
  },
  {
   "cell_type": "code",
   "execution_count": null,
   "metadata": {},
   "outputs": [],
   "source": [
    "#retrieve all credits info (actors and other crew)\n",
    "credits_orig = pd.read_csv(\"Resources/tmdb_5000_credits.csv\")\n",
    "credits_orig.head()"
   ]
  },
  {
   "cell_type": "code",
   "execution_count": null,
   "metadata": {},
   "outputs": [],
   "source": [
    "#Filter for movies in en_movies dataframe\n",
    "credits= credits_orig[credits_orig['movie_id'].isin(movie_id_list)]\n",
    "\n",
    "credits.head()"
   ]
  },
  {
   "cell_type": "markdown",
   "metadata": {},
   "source": [
    "____________"
   ]
  },
  {
   "cell_type": "markdown",
   "metadata": {},
   "source": [
    "# Transform:"
   ]
  },
  {
   "cell_type": "markdown",
   "metadata": {},
   "source": [
    "# Create Genres Dataframe"
   ]
  },
  {
   "cell_type": "code",
   "execution_count": null,
   "metadata": {},
   "outputs": [],
   "source": [
    "# Create sets to hold ids and names\n",
    "ids_names = set()\n",
    "\n",
    "\n",
    "# Loop through genres rows and update sets\n",
    "for row in en_movies['genres']:\n",
    "    genres = json.loads(row)\n",
    "    ids_names.update((i['id'], i['name']) for i in genres)\n",
    "\n",
    "\n",
    "# Print ids and genre lists\n",
    "for id, name in ids_names:\n",
    "    print(f\"{id}: {name}\")"
   ]
  },
  {
   "cell_type": "code",
   "execution_count": null,
   "metadata": {},
   "outputs": [],
   "source": [
    "# Create Genres Dataframe\n",
    "genres_df = pd.DataFrame(columns=['genre_id', 'genre'], data=(ids_names))\n",
    "\n",
    "# Convert ids to integers\n",
    "genres_df['genre_id']=genres_df['genre_id'].astype(int)\n",
    "\n",
    "genres_df"
   ]
  },
  {
   "cell_type": "markdown",
   "metadata": {},
   "source": [
    "#### Using emoji Library with Genres DF"
   ]
  },
  {
   "cell_type": "code",
   "execution_count": null,
   "metadata": {},
   "outputs": [],
   "source": [
    "# Add emojis to genres df\n",
    "emoji_genres=genres_df.copy()\n",
    "# Create a dictionary emoji aliases\n",
    "emoji_dic = {'Horror':':face_screaming_in_fear:', 'Science Fiction':':alien:', 'Foreign':':globe_showing_europe_africa:', 'Family':':family_man_woman_girl_boy:', 'Action':':person_fencing:', 'Music':':musical_notes:', 'War':':military_medal:', 'Comedy':':rolling_on_the_floor_laughing:', 'Romance':':sparkling_heart:', 'Drama':':performing_arts:', 'Thriller':':bomb:', 'Adventure':':person_climbing:', 'TV Movie':':television:', 'Documentary':':video_camera:', 'Crime':':supervillain:', 'History':':classical_building:', 'Animation':':unicorn:', 'Fantasy':':troll:', 'Mystery':':detective:', 'Western':':cowboy_hat_face:'}\n",
    "# Create a DF of emoji aliases\n",
    "emoji_df= pd.DataFrame(list(emoji_dic.items()), columns=['genre', 'alias'])\n",
    "# Merge DFs\n",
    "emoji_genres=pd.merge(emoji_genres, emoji_df, on='genre', how='left')\n",
    "# Create emojis\n",
    "emoji_genres['genres_emoji'] = [emoji.emojize(x, language='alias') for x in emoji_genres['alias']]\n",
    "# Save as csv\n",
    "emoji_genres.to_csv('csv_outputs\\emoji_genres.csv', index=False)\n",
    "\n",
    "emoji_genres"
   ]
  },
  {
   "cell_type": "markdown",
   "metadata": {},
   "source": [
    "#### Create dataframe for Movie Ids and Genre Ids"
   ]
  },
  {
   "cell_type": "code",
   "execution_count": null,
   "metadata": {},
   "outputs": [],
   "source": [
    "# create df of movie ids and genres\n",
    "movie_genres = en_movies[[\"id\", \"genres\"]]\n",
    "\n",
    "# Create empty dataframe\n",
    "movie_genreids_df = pd.DataFrame()\n",
    "\n",
    "for index, row in movie_genres.iterrows():\n",
    "    # Get all keywords into a list\n",
    "    data = row['genres']\n",
    "    data_list = json.loads(data)\n",
    "        \n",
    "    # Get movie id\n",
    "    movie_id = row['id']\n",
    "        \n",
    "    # Get separate lists for id of keywords\n",
    "    genre_id = [sub['id'] for sub in data_list]\n",
    "    \n",
    "    # Combine lists into data frame\n",
    "    movieid_kws = pd.DataFrame({'movie_id': movie_id, 'genre_id': genre_id})\n",
    "    \n",
    "    # Concatenate to main DataFrame\n",
    "    movie_genreids_df = pd.concat([movie_genreids_df, movieid_kws], ignore_index=True)\n",
    "\n",
    "# Convert ids to integers\n",
    "movie_genreids_df['genre_id']=movie_genreids_df['genre_id'].astype(int)\n",
    "\n",
    "# Save as csv\n",
    "movie_genreids_df.to_csv('csv_outputs\\movieids_genreids.csv', index=False)\n",
    "    \n",
    "# Check first 25 rows of the DataFrame\n",
    "movie_genreids_df.head(10)\n"
   ]
  },
  {
   "cell_type": "markdown",
   "metadata": {},
   "source": [
    "# Create Cast Dataframe"
   ]
  },
  {
   "cell_type": "code",
   "execution_count": null,
   "metadata": {},
   "outputs": [],
   "source": [
    "#Testing for avatar (first movie)\n",
    "\n",
    "#Index 0 is first row. getting full cast info\n",
    "data = credits[\"cast\"].loc[credits.index[0]]\n",
    "\n",
    "data_list = json.loads(data)\n",
    "\n",
    "five_list = data_list[:5]\n",
    "\n",
    "actor_id = [ sub['id'] for sub in five_list ]\n",
    "actor_name = [ sub['name'] for sub in five_list ]\n",
    "movie_id = credits[\"movie_id\"].loc[credits.index[0]]\n",
    "\n",
    "five_df = pd.DataFrame({'movie_id':movie_id,'actor_id':actor_id,'name': actor_name})\n",
    "five_df"
   ]
  },
  {
   "cell_type": "code",
   "execution_count": null,
   "metadata": {},
   "outputs": [],
   "source": [
    "# To get only unique ids in five_list:\n",
    "# Actors may star as two or more characters in a single movie\n",
    "\n",
    "credits_actor_name = pd.DataFrame()\n",
    "\n",
    "for index, row in credits.iterrows():\n",
    "    # Get all actors into a list\n",
    "    data = row[\"cast\"]\n",
    "    data_list = json.loads(data)\n",
    "\n",
    "    # Get movie id\n",
    "    movie_id = row[\"movie_id\"]\n",
    "\n",
    "    # Initialize an empty set to keep track of actor IDs\n",
    "    set_ids = set()\n",
    "\n",
    "    # Initialize an empty list to store unique actor data\n",
    "    unique_actors = []\n",
    "\n",
    "    # Iterate through the cast data to get unique actors\n",
    "    for actor in data_list:\n",
    "        actor_id = actor['id']\n",
    "        actor_name = actor['name']\n",
    "\n",
    "        if actor_id not in set_ids:\n",
    "            # Add actor_id\n",
    "            set_ids.add(actor_id)\n",
    "            # Append actor data to unique_actors\n",
    "            unique_actors.append({'id': actor_id, 'name': actor_name})\n",
    "\n",
    "        # Stop the loop if we have 5 unique actors\n",
    "        if len(unique_actors) == 5:\n",
    "            break\n",
    "\n",
    "    # Get separate lists for id and names of actors\n",
    "    actor_id = [actor['id'] for actor in unique_actors]\n",
    "    actor_name = [actor['name'] for actor in unique_actors]\n",
    "\n",
    "    # Create a DataFrame for the top 5 unique actors\n",
    "    five_df = pd.DataFrame({'movie_id': movie_id, 'actor_id': actor_id, 'name': actor_name})\n",
    "\n",
    "    # Concatenate the DataFrame to credits_actor_name\n",
    "    credits_actor_name = pd.concat([credits_actor_name, five_df], ignore_index=True)\n",
    "\n",
    "# Convert ids to integers\n",
    "credits_actor_name['actor_id'] = credits_actor_name['actor_id'].astype(int)\n",
    "\n",
    "# Check df\n",
    "credits_actor_name.head(10)\n"
   ]
  },
  {
   "cell_type": "markdown",
   "metadata": {},
   "source": [
    "#### Create Dataframe of Movie Ids and Actor Ids"
   ]
  },
  {
   "cell_type": "code",
   "execution_count": null,
   "metadata": {},
   "outputs": [],
   "source": [
    "#Create DF without names\n",
    "credits_actor_df = credits_actor_name.drop(columns=['name'])\n",
    "\n",
    "# Save as csv\n",
    "credits_actor_df.to_csv('csv_outputs\\credits_actor.csv', index=False)   \n",
    "\n",
    "credits_actor_df.head(10)"
   ]
  },
  {
   "cell_type": "markdown",
   "metadata": {},
   "source": [
    "#### Create Dataframe of Actors and Ids"
   ]
  },
  {
   "cell_type": "code",
   "execution_count": null,
   "metadata": {},
   "outputs": [],
   "source": [
    "# Create set to hold ids and actors\n",
    "ids_cast = set()\n",
    "\n",
    "\n",
    "# Loop through cast rows and update set\n",
    "for index, row in credits_actor_name.iterrows():\n",
    "    \n",
    "    # Extract actor ID and name from the current row\n",
    "    actor_id = row['actor_id']\n",
    "    actor_name = row['name']\n",
    "    \n",
    "    # Add actor ID and name to the set\n",
    "    ids_cast.add((actor_id, actor_name))\n",
    "\n",
    "# Print first 10 in set of ids and actors\n",
    "for actor_id, actor_name in itertools.islice(ids_cast, 10):\n",
    "    print(f\"{actor_id}: {actor_name}\")"
   ]
  },
  {
   "cell_type": "code",
   "execution_count": null,
   "metadata": {},
   "outputs": [],
   "source": [
    "# Create Actors Dataframe\n",
    "cast_df = pd.DataFrame(columns=['actor_id', 'actor'], data=(ids_cast))\n",
    "\n",
    "# Save as csv\n",
    "cast_df.to_csv('csv_outputs\\\\actors.csv', index=False)\n",
    "\n",
    "cast_df.head(10)\n"
   ]
  },
  {
   "cell_type": "markdown",
   "metadata": {},
   "source": [
    "# Create Directors Dataframe"
   ]
  },
  {
   "cell_type": "code",
   "execution_count": null,
   "metadata": {},
   "outputs": [],
   "source": [
    "# Create set to hold ids and directors\n",
    "ids_director = set()\n",
    "\n",
    "# Loop through crew rows and update set\n",
    "for row in credits['crew']:\n",
    "    crew = json.loads(row)\n",
    "         \n",
    "# Loop through crew members\n",
    "    for crew_member in crew:\n",
    "    # Find members with 'job':'director'\n",
    "        if crew_member.get('job') == \"Director\":\n",
    "        # If Director, update set\n",
    "            ids_director.add((crew_member['id'], crew_member['name']))\n",
    "\n",
    "\n",
    "# Print the first 10 in set containing director ids and names\n",
    "for id, name in itertools.islice(ids_director, 10):\n",
    "    print(f\"{id}: {name}\")"
   ]
  },
  {
   "cell_type": "code",
   "execution_count": null,
   "metadata": {},
   "outputs": [],
   "source": [
    "# Create Director Dataframe\n",
    "director_df = pd.DataFrame(columns=['director_id', 'director'], data=(ids_director))\n",
    "\n",
    "# Convert ids to integers\n",
    "director_df['director_id']=director_df['director_id'].astype(int)\n",
    "\n",
    "# Save as csv\n",
    "director_df.to_csv('csv_outputs\\directors.csv', index=False)\n",
    "\n",
    "director_df.head(10)"
   ]
  },
  {
   "cell_type": "markdown",
   "metadata": {},
   "source": [
    "### Create a Dataframe for Movie Ids and Director Ids "
   ]
  },
  {
   "cell_type": "code",
   "execution_count": null,
   "metadata": {},
   "outputs": [],
   "source": [
    "# create df of movie ids and crew\n",
    "movie_crew = credits[[\"movie_id\", \"crew\"]]\n",
    "\n",
    "# Create empty dataframe\n",
    "movieid_directorid_df = pd.DataFrame()\n",
    "\n",
    "for index, row in movie_crew.iterrows():\n",
    "    # Get all keywords into a list\n",
    "    data = row['crew']\n",
    "    data_list = json.loads(data)\n",
    "\n",
    "    # Get movie id\n",
    "    movie_id = row['movie_id']\n",
    "\n",
    "    # Empty list to store director IDs\n",
    "    director_ids = []\n",
    "\n",
    "    for crew_member in data_list:\n",
    "    # Find members with 'job':'director'\n",
    "        if crew_member.get('job') == \"Director\":    \n",
    "    \n",
    "            # Get separate lists for id of directors\n",
    "            director_ids.append(crew_member.get('id'))\n",
    "\n",
    "   # Create a DataFrame for the current movie ID and director IDs\n",
    "    movie_director = pd.DataFrame({'movie_id': [movie_id] * len(director_ids), 'director_id': director_ids})\n",
    "    \n",
    "    # Concatenate to main DataFrame\n",
    "    movieid_directorid_df = pd.concat([movieid_directorid_df, movie_director], ignore_index=True)\n",
    "\n",
    "# Convert ids to integers\n",
    "movieid_directorid_df['movie_id']=movieid_directorid_df['movie_id'].astype(int)\n",
    "movieid_directorid_df['director_id']=movieid_directorid_df['director_id'].astype(int)\n",
    "\n",
    "# Save as csv\n",
    "movieid_directorid_df.to_csv('csv_outputs\\movieids_director_ids.csv', index=False)\n",
    "    \n",
    "# Check first 25 rows of the DataFrame\n",
    "movieid_directorid_df.head(10)\n"
   ]
  },
  {
   "cell_type": "markdown",
   "metadata": {},
   "source": [
    "# Create Keyword Dataframe"
   ]
  },
  {
   "cell_type": "code",
   "execution_count": null,
   "metadata": {},
   "outputs": [],
   "source": [
    "# Create sets to hold ids and names\n",
    "ids_keyword = set()\n",
    "\n",
    "# Loop through genres rows and update sets\n",
    "for row in en_movies['keywords']:\n",
    "    keywords = json.loads(row)\n",
    "    ids_keyword.update((i['id'], i['name']) for i in keywords)\n",
    "\n",
    "# Print the first 10 in set containing keyword ids and keywords\n",
    "for id, keyword in itertools.islice(ids_keyword, 10):\n",
    "    print(f\"{id}: {keyword}\")"
   ]
  },
  {
   "cell_type": "code",
   "execution_count": null,
   "metadata": {},
   "outputs": [],
   "source": [
    "# Create keywords Dataframe\n",
    "keywords_df = pd.DataFrame(columns=['kw_id', 'keyword'], data=(ids_keyword))\n",
    "\n",
    "# Convert ids to integers\n",
    "keywords_df['kw_id']=keywords_df['kw_id'].astype(int)\n",
    "\n",
    "# Save as csv\n",
    "keywords_df.to_csv('csv_outputs\\keywords.csv', index=False)\n",
    "\n",
    "keywords_df.head(10)"
   ]
  },
  {
   "cell_type": "markdown",
   "metadata": {},
   "source": [
    "### Create Dataframe for Movie Ids and Keyword Ids"
   ]
  },
  {
   "cell_type": "code",
   "execution_count": null,
   "metadata": {},
   "outputs": [],
   "source": [
    "# create df of movie ids and keywords\n",
    "movie_keywords = en_movies[[\"id\", \"keywords\"]]\n",
    "\n",
    "# Create empty dataframe\n",
    "movie_keywords_df = pd.DataFrame()\n",
    "\n",
    "for index, row in movie_keywords.iterrows():\n",
    "    # Get all keywords into a list\n",
    "    data = row['keywords']\n",
    "    data_list = json.loads(data)\n",
    "        \n",
    "    # Get movie id\n",
    "    movie_id = row['id']\n",
    "        \n",
    "    # Get separate lists for id of keywords\n",
    "    kw_id = [sub['id'] for sub in data_list]\n",
    "    \n",
    "    # Combine lists into data frame\n",
    "    movieid_kws = pd.DataFrame({'movie_id': movie_id, 'kw_id': kw_id})\n",
    "    \n",
    "    # Concatenate to main DataFrame\n",
    "    movie_keywords_df = pd.concat([movie_keywords_df, movieid_kws], ignore_index=True)\n",
    "\n",
    "# Convert ids to integers\n",
    "movie_keywords_df['kw_id']=movie_keywords_df['kw_id'].astype(int)\n",
    "\n",
    "# Save as csv\n",
    "movie_keywords_df.to_csv('csv_outputs\\movieids_kwids.csv', index=False)\n",
    "    \n",
    "# Check first 25 rows of the DataFrame\n",
    "movie_keywords_df.head(25)"
   ]
  },
  {
   "cell_type": "markdown",
   "metadata": {},
   "source": [
    "# Create Movies Dataframe"
   ]
  },
  {
   "cell_type": "code",
   "execution_count": null,
   "metadata": {},
   "outputs": [],
   "source": [
    "# Identify which columns are needed\n",
    "data = {'movie_id':en_movies['id'], \n",
    "        'title':en_movies['title'], \n",
    "        'release_date_str':en_movies['release_date'], \n",
    "        'revenue':en_movies['revenue'], \n",
    "        'tagline':en_movies['tagline'], \n",
    "        'average_vote':en_movies['vote_average'],\n",
    "        'popularity':en_movies['popularity']}\n",
    "\n",
    "# Create Director Dataframe\n",
    "movies_df = pd.DataFrame(data=(data))\n",
    "\n",
    "# Convert ids to integers\n",
    "movies_df['movie_id']=movies_df['movie_id'].astype(int)\n",
    "\n",
    "# Fill null values in tagline and release_date\n",
    "movies_df['tagline'] = movies_df['tagline'] .fillna('*No Tag Line*')\n",
    "movies_df['release_date_str'] = movies_df['release_date_str'] .fillna(0000-00-00)\n",
    "\n",
    "# Convert release date column to datetime type\n",
    "movies_df['release_date'] = pd.to_datetime(movies_df['release_date_str'], format='mixed')\n",
    "\n",
    "# Drop the original release date column\n",
    "movies_df.drop(columns=['release_date_str'], inplace=True)\n",
    "\n",
    "# Save as csv\n",
    "movies_df.to_csv('csv_outputs\\movies.csv', index=False)\n",
    "\n",
    "movies_df.head(20)"
   ]
  },
  {
   "cell_type": "markdown",
   "metadata": {},
   "source": [
    "______________"
   ]
  }
 ],
 "metadata": {
  "kernelspec": {
   "display_name": "base",
   "language": "python",
   "name": "python3"
  },
  "language_info": {
   "codemirror_mode": {
    "name": "ipython",
    "version": 3
   },
   "file_extension": ".py",
   "mimetype": "text/x-python",
   "name": "python",
   "nbconvert_exporter": "python",
   "pygments_lexer": "ipython3",
   "version": "3.10.13"
  }
 },
 "nbformat": 4,
 "nbformat_minor": 2
}
